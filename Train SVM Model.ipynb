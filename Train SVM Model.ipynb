{
 "cells": [
  {
   "cell_type": "code",
   "execution_count": 1,
   "id": "31d13bd6",
   "metadata": {},
   "outputs": [],
   "source": [
    "import os\n",
    "name = \"Train_SVM_Model\"\n",
    "load_model = True\n",
    "save_model = False\n",
    "train_again = False\n",
    "working_dir = r\"C:\\Users\\droko\\Documents\\קורסים\\סדנה במדעי הנתונים\\פרויקט\"\n",
    "saved_model_path = os.path.join(working_dir, f'{name}.h5')"
   ]
  },
  {
   "cell_type": "markdown",
   "id": "ec627c65",
   "metadata": {},
   "source": [
    "# Loading the data"
   ]
  },
  {
   "cell_type": "code",
   "execution_count": 2,
   "id": "2583e46f",
   "metadata": {},
   "outputs": [],
   "source": [
    "import os\n",
    "data_dir = r\"C:\\Users\\droko\\Documents\\קורסים\\סדנה במדעי הנתונים\\פרויקט\\ChestXRays\""
   ]
  },
  {
   "cell_type": "code",
   "execution_count": 3,
   "id": "1d576dd2",
   "metadata": {},
   "outputs": [],
   "source": [
    "test_path = os.path.join(data_dir,'test')\n",
    "train_path = os.path.join(data_dir, 'train')\n",
    "val_path = os.path.join(data_dir, 'val')"
   ]
  },
  {
   "cell_type": "code",
   "execution_count": 4,
   "id": "ae955ade",
   "metadata": {},
   "outputs": [],
   "source": [
    "from skimage.io import imread\n",
    "import cv2\n",
    "from sklearn.model_selection import train_test_split\n",
    "\n",
    "def load_data(data_path):\n",
    "    images = []\n",
    "    labels = []\n",
    "    for label in ['NORMAL', 'PNEUMONIA']:\n",
    "        path = os.path.join(data_path, label)\n",
    "        for file in os.listdir(path):\n",
    "            image = imread(os.path.join(path, file))\n",
    "            image = cv2.cvtColor(image, cv2.IMREAD_GRAYSCALE)\n",
    "            image = cv2.resize(image, (224, 224))\n",
    "            image_np = image.flatten()\n",
    "            images.append(image_np)\n",
    "            labels.append(label)\n",
    "        print(f\"Loaded {len(images)} {label} images\")\n",
    "            \n",
    "    return (images, labels)"
   ]
  },
  {
   "cell_type": "code",
   "execution_count": 5,
   "id": "e7188632",
   "metadata": {},
   "outputs": [
    {
     "name": "stdout",
     "output_type": "stream",
     "text": [
      "Loaded NORMAL images\n",
      "Loaded PNEUMONIA images\n",
      "Loaded NORMAL images\n",
      "Loaded PNEUMONIA images\n"
     ]
    }
   ],
   "source": [
    "if train_again:\n",
    "    train_images, train_labels = load_data(train_path)\n",
    "test_images, test_labels = load_data(test_path)\n",
    "validation_images, validation_labels = load_data(val_path)"
   ]
  },
  {
   "cell_type": "markdown",
   "id": "9391e3b8",
   "metadata": {},
   "source": [
    "# Building the model"
   ]
  },
  {
   "cell_type": "markdown",
   "id": "47f03ee3",
   "metadata": {},
   "source": [
    "## Create the model"
   ]
  },
  {
   "cell_type": "code",
   "execution_count": 6,
   "id": "db191bc7",
   "metadata": {},
   "outputs": [],
   "source": [
    "from sklearn import svm\n",
    "import pickle\n",
    "\n",
    "if os.path.exists(saved_model_path) and load_model:\n",
    "    with open(saved_model_path, \"rb\") as f:\n",
    "        model = pickle.loads(f.read())\n",
    "else:\n",
    "    svc = svm.SVC()\n",
    "    model = svc.fit(train_images, train_labels)"
   ]
  },
  {
   "cell_type": "code",
   "execution_count": 7,
   "id": "df3db0e3",
   "metadata": {},
   "outputs": [],
   "source": [
    "if save_model:\n",
    "    with open(saved_model_path, \"wb\") as f:\n",
    "        pickle.dump(results, f)"
   ]
  },
  {
   "cell_type": "markdown",
   "id": "94281563",
   "metadata": {},
   "source": [
    "# Evaluate the model on test set"
   ]
  },
  {
   "cell_type": "code",
   "execution_count": 8,
   "id": "612ab2b6",
   "metadata": {},
   "outputs": [
    {
     "name": "stdout",
     "output_type": "stream",
     "text": [
      "The testing score: 76.4423076923077%\n"
     ]
    }
   ],
   "source": [
    "test_images_score = model.score(test_images, test_labels)\n",
    "print(f\"The testing score: {test_images_score*100}%\")"
   ]
  },
  {
   "cell_type": "code",
   "execution_count": 9,
   "id": "dc76be30",
   "metadata": {},
   "outputs": [
    {
     "name": "stdout",
     "output_type": "stream",
     "text": [
      "The validation score: 75.0%\n"
     ]
    }
   ],
   "source": [
    "validation_images_score = model.score(validation_images, validation_labels)\n",
    "print(f\"The validation score: {validation_images_score*100}%\")"
   ]
  },
  {
   "cell_type": "markdown",
   "id": "53244bac",
   "metadata": {},
   "source": [
    "# Prediction of an image"
   ]
  },
  {
   "cell_type": "code",
   "execution_count": 10,
   "id": "afccebd5",
   "metadata": {},
   "outputs": [
    {
     "name": "stdout",
     "output_type": "stream",
     "text": [
      "C:\\Users\\droko\\Documents\\קורסים\\סדנה במדעי הנתונים\\פרויקט\\ChestXRays\\test\\NORMAL\\NORMAL2-IM-0307-0001.jpeg: NORMAL\n",
      "C:\\Users\\droko\\Documents\\קורסים\\סדנה במדעי הנתונים\\פרויקט\\ChestXRays\\test\\PNEUMONIA\\person124_bacteria_590.jpeg: PNEUMONIA\n"
     ]
    }
   ],
   "source": [
    "import random\n",
    "\n",
    "def predict(model, image_path):\n",
    "    image = imread(image_path)\n",
    "    image = cv2.cvtColor(image, cv2.IMREAD_GRAYSCALE)\n",
    "    image = cv2.resize(image, (224, 224))\n",
    "    image_np = image.flatten()\n",
    "\n",
    "    result = model.predict([image_np])\n",
    "    print(f\"{image_path}: {result[0]}\")\n",
    "    \n",
    "normal_test_path = os.path.join(test_path, \"NORMAL\")\n",
    "normal_image_path = os.path.join(normal_test_path, random.choice(os.listdir(normal_test_path)))\n",
    "predict(model, normal_image_path)\n",
    "\n",
    "pneumonia_test_path = os.path.join(test_path, \"PNEUMONIA\")\n",
    "pneumonia_image_path = os.path.join(pneumonia_test_path, random.choice(os.listdir(pneumonia_test_path)))\n",
    "predict(model, pneumonia_image_path)"
   ]
  }
 ],
 "metadata": {
  "kernelspec": {
   "display_name": "Python 3 (ipykernel)",
   "language": "python",
   "name": "python3"
  },
  "language_info": {
   "codemirror_mode": {
    "name": "ipython",
    "version": 3
   },
   "file_extension": ".py",
   "mimetype": "text/x-python",
   "name": "python",
   "nbconvert_exporter": "python",
   "pygments_lexer": "ipython3",
   "version": "3.10.9"
  }
 },
 "nbformat": 4,
 "nbformat_minor": 5
}

{
 "cells": [
  {
   "cell_type": "code",
   "execution_count": 1,
   "id": "e4e69ca3",
   "metadata": {},
   "outputs": [],
   "source": [
    "import os\n",
    "name = \"Train_Random_Forest_Model\"\n",
    "load_model = True\n",
    "save_model = False\n",
    "train_again = False\n",
    "working_dir = r\"C:\\Users\\droko\\Documents\\קורסים\\סדנה במדעי הנתונים\\פרויקט\"\n",
    "saved_model_path = os.path.join(working_dir, f'{name}.h5')"
   ]
  },
  {
   "cell_type": "markdown",
   "id": "ec627c65",
   "metadata": {},
   "source": [
    "# Loading the data"
   ]
  },
  {
   "cell_type": "code",
   "execution_count": 2,
   "id": "2583e46f",
   "metadata": {},
   "outputs": [],
   "source": [
    "data_dir = os.path.join(working_dir, \"ChestXRays\")"
   ]
  },
  {
   "cell_type": "code",
   "execution_count": 3,
   "id": "1d576dd2",
   "metadata": {},
   "outputs": [],
   "source": [
    "test_path = os.path.join(data_dir,'test')\n",
    "train_path = os.path.join(data_dir, 'train')\n",
    "val_path = os.path.join(data_dir, 'val')"
   ]
  },
  {
   "cell_type": "code",
   "execution_count": 4,
   "id": "562145d4",
   "metadata": {},
   "outputs": [],
   "source": [
    "from skimage.io import imread\n",
    "import cv2\n",
    "from sklearn.model_selection import train_test_split\n",
    "\n",
    "def load_data(data_path):\n",
    "    images = []\n",
    "    labels = []\n",
    "    for label in ['NORMAL', 'PNEUMONIA']:\n",
    "        path = os.path.join(data_path, label)\n",
    "        for file in os.listdir(path):\n",
    "            image = imread(os.path.join(path, file))\n",
    "            image = cv2.cvtColor(image, cv2.IMREAD_GRAYSCALE)\n",
    "            image = cv2.resize(image, (224, 224))\n",
    "            image_np = image.flatten()\n",
    "            images.append(image_np)\n",
    "            labels.append(label)\n",
    "        print(f\"Loaded {len(images)} {label} images\")\n",
    "            \n",
    "    return (images, labels)"
   ]
  },
  {
   "cell_type": "code",
   "execution_count": 5,
   "id": "b1606bf6",
   "metadata": {},
   "outputs": [
    {
     "name": "stdout",
     "output_type": "stream",
     "text": [
      "Loaded 234 NORMAL images\n",
      "Loaded 624 PNEUMONIA images\n",
      "Loaded 8 NORMAL images\n",
      "Loaded 16 PNEUMONIA images\n"
     ]
    }
   ],
   "source": [
    "if train_again:\n",
    "    train_images, train_labels = load_data(train_path)\n",
    "test_images, test_labels = load_data(test_path)\n",
    "validation_images, validation_labels = load_data(val_path)"
   ]
  },
  {
   "cell_type": "code",
   "execution_count": 6,
   "id": "fc5a1fb8",
   "metadata": {},
   "outputs": [],
   "source": [
    "if False:\n",
    "    from fastai.vision.all import *\n",
    "    from tqdm import tqdm\n",
    "\n",
    "    train_images = []\n",
    "    train_labels = []\n",
    "\n",
    "    def label_func(f):\n",
    "        return \"NORMAL\" in str(f)\n",
    "    files = get_image_files(os.path.join(train_path, \"PNEUMONIA\")) +  get_image_files(os.path.join(train_path, \"NORMAL\"))\n",
    "    dls = ImageDataLoaders.from_path_func(train_path, files, label_func, item_tfms=Resize(224))\n",
    "    dls.show_batch()"
   ]
  },
  {
   "cell_type": "code",
   "execution_count": 7,
   "id": "6b55fc60",
   "metadata": {},
   "outputs": [],
   "source": [
    "if False:\n",
    "    learn = vision_learner(dls, resnet34, metrics=error_rate)\n",
    "    learn.fine_tune(1)"
   ]
  },
  {
   "cell_type": "markdown",
   "id": "9391e3b8",
   "metadata": {},
   "source": [
    "# Building the model"
   ]
  },
  {
   "cell_type": "markdown",
   "id": "47f03ee3",
   "metadata": {},
   "source": [
    "## Create the model"
   ]
  },
  {
   "cell_type": "code",
   "execution_count": 8,
   "id": "85ff9e7e",
   "metadata": {},
   "outputs": [],
   "source": [
    "from sklearn.ensemble import RandomForestClassifier\n",
    "import pickle\n",
    "\n",
    "if os.path.exists(saved_model_path) and load_model:\n",
    "    with open(saved_model_path, \"rb\") as f:\n",
    "        model = pickle.loads(f.read())\n",
    "else:\n",
    "    rfc = RandomForestClassifier(n_estimators=100)\n",
    "    model = rfc.fit(train_images, train_labels)"
   ]
  },
  {
   "cell_type": "code",
   "execution_count": 9,
   "id": "ee93c9ff",
   "metadata": {},
   "outputs": [],
   "source": [
    "if save_model:\n",
    "    with open(saved_model_path, \"wb\") as f:\n",
    "        pickle.dump(results, f)"
   ]
  },
  {
   "cell_type": "markdown",
   "id": "94281563",
   "metadata": {},
   "source": [
    "# Evaluate the model on test set"
   ]
  },
  {
   "cell_type": "code",
   "execution_count": 10,
   "id": "19eef840",
   "metadata": {},
   "outputs": [
    {
     "name": "stdout",
     "output_type": "stream",
     "text": [
      "The testing score: 75.16025641025641%\n"
     ]
    }
   ],
   "source": [
    "test_images_score = model.score(test_images, test_labels)\n",
    "print(f\"The testing score: {test_images_score*100}%\")"
   ]
  },
  {
   "cell_type": "code",
   "execution_count": 11,
   "id": "b15bead3",
   "metadata": {},
   "outputs": [
    {
     "name": "stdout",
     "output_type": "stream",
     "text": [
      "The validation score: 62.5%\n"
     ]
    }
   ],
   "source": [
    "validation_images_score = model.score(validation_images, validation_labels)\n",
    "print(f\"The validation score: {validation_images_score*100}%\")"
   ]
  },
  {
   "cell_type": "markdown",
   "id": "53244bac",
   "metadata": {},
   "source": [
    "# Prediction of an image"
   ]
  },
  {
   "cell_type": "code",
   "execution_count": 12,
   "id": "afccebd5",
   "metadata": {},
   "outputs": [
    {
     "name": "stdout",
     "output_type": "stream",
     "text": [
      "C:\\Users\\droko\\Documents\\קורסים\\סדנה במדעי הנתונים\\פרויקט\\ChestXRays\\test\\NORMAL\\NORMAL2-IM-0287-0001.jpeg: NORMAL\n",
      "C:\\Users\\droko\\Documents\\קורסים\\סדנה במדעי הנתונים\\פרויקט\\ChestXRays\\test\\PNEUMONIA\\person1653_virus_2859.jpeg: PNEUMONIA\n"
     ]
    }
   ],
   "source": [
    "import random\n",
    "\n",
    "def predict(model, image_path):\n",
    "    image = imread(image_path)\n",
    "    image = cv2.cvtColor(image, cv2.IMREAD_GRAYSCALE)\n",
    "    image = cv2.resize(image, (224, 224))\n",
    "    image_np = image.flatten()\n",
    "\n",
    "    result = model.predict([image_np])\n",
    "    print(f\"{image_path}: {result[0]}\")\n",
    "    \n",
    "normal_test_path = os.path.join(test_path, \"NORMAL\")\n",
    "normal_image_path = os.path.join(normal_test_path, random.choice(os.listdir(normal_test_path)))\n",
    "predict(model, normal_image_path)\n",
    "\n",
    "pneumonia_test_path = os.path.join(test_path, \"PNEUMONIA\")\n",
    "pneumonia_image_path = os.path.join(pneumonia_test_path, random.choice(os.listdir(pneumonia_test_path)))\n",
    "predict(model, pneumonia_image_path)"
   ]
  }
 ],
 "metadata": {
  "kernelspec": {
   "display_name": "Python 3 (ipykernel)",
   "language": "python",
   "name": "python3"
  },
  "language_info": {
   "codemirror_mode": {
    "name": "ipython",
    "version": 3
   },
   "file_extension": ".py",
   "mimetype": "text/x-python",
   "name": "python",
   "nbconvert_exporter": "python",
   "pygments_lexer": "ipython3",
   "version": "3.10.9"
  }
 },
 "nbformat": 4,
 "nbformat_minor": 5
}
